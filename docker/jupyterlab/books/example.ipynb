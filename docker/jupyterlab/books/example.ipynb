{
 "cells": [
  {
   "cell_type": "code",
   "execution_count": 1,
   "metadata": {},
   "outputs": [
    {
     "name": "stdout",
     "output_type": "stream",
     "text": [
      "['/content',\n",
      " '/usr/local/lib/python37.zip',\n",
      " '/usr/local/lib/python3.7',\n",
      " '/usr/local/lib/python3.7/lib-dynload',\n",
      " '',\n",
      " '/usr/local/lib/python3.7/site-packages',\n",
      " '/usr/local/lib/python3.7/site-packages/IPython/extensions',\n",
      " '/root/.ipython',\n",
      " '/content/class']\n"
     ]
    }
   ],
   "source": [
    "import os\n",
    "import time\n",
    "import pprint\n",
    "import sys\n",
    "sys.path.append('/content/class')\n",
    "pprint.pprint(sys.path)"
   ]
  },
  {
   "cell_type": "code",
   "execution_count": 2,
   "metadata": {},
   "outputs": [],
   "source": [
    "from example import Example"
   ]
  },
  {
   "cell_type": "code",
   "execution_count": 3,
   "metadata": {},
   "outputs": [],
   "source": [
    "google = Example()"
   ]
  },
  {
   "cell_type": "code",
   "execution_count": 4,
   "metadata": {},
   "outputs": [
    {
     "name": "stdout",
     "output_type": "stream",
     "text": [
      "q selenium\n"
     ]
    }
   ],
   "source": [
    "google.execGoogleSearch()"
   ]
  },
  {
   "cell_type": "code",
   "execution_count": 1,
   "metadata": {},
   "outputs": [],
   "source": [
    "go = 'test'"
   ]
  },
  {
   "cell_type": "code",
   "execution_count": null,
   "metadata": {},
   "outputs": [],
   "source": [
    "g"
   ]
  }
 ],
 "metadata": {
  "kernelspec": {
   "display_name": "Python 3",
   "language": "python",
   "name": "python3"
  },
  "language_info": {
   "codemirror_mode": {
    "name": "ipython",
    "version": 3
   },
   "file_extension": ".py",
   "mimetype": "text/x-python",
   "name": "python",
   "nbconvert_exporter": "python",
   "pygments_lexer": "ipython3",
   "version": "3.7.9"
  }
 },
 "nbformat": 4,
 "nbformat_minor": 4
}
